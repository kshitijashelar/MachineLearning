{
 "cells": [
  {
   "cell_type": "markdown",
   "metadata": {},
   "source": [
    "Q1. Analyzing dataset"
   ]
  },
  {
   "cell_type": "code",
   "execution_count": 3,
   "metadata": {},
   "outputs": [
    {
     "data": {
      "text/html": [
       "<div>\n",
       "<style scoped>\n",
       "    .dataframe tbody tr th:only-of-type {\n",
       "        vertical-align: middle;\n",
       "    }\n",
       "\n",
       "    .dataframe tbody tr th {\n",
       "        vertical-align: top;\n",
       "    }\n",
       "\n",
       "    .dataframe thead th {\n",
       "        text-align: right;\n",
       "    }\n",
       "</style>\n",
       "<table border=\"1\" class=\"dataframe\">\n",
       "  <thead>\n",
       "    <tr style=\"text-align: right;\">\n",
       "      <th></th>\n",
       "      <th>Age</th>\n",
       "      <th>Year</th>\n",
       "      <th>NNodes</th>\n",
       "      <th>Class</th>\n",
       "      <th>Survived</th>\n",
       "    </tr>\n",
       "  </thead>\n",
       "  <tbody>\n",
       "    <tr>\n",
       "      <th>0</th>\n",
       "      <td>30</td>\n",
       "      <td>64</td>\n",
       "      <td>1</td>\n",
       "      <td>1</td>\n",
       "      <td>GE5</td>\n",
       "    </tr>\n",
       "    <tr>\n",
       "      <th>1</th>\n",
       "      <td>30</td>\n",
       "      <td>62</td>\n",
       "      <td>3</td>\n",
       "      <td>1</td>\n",
       "      <td>GE5</td>\n",
       "    </tr>\n",
       "    <tr>\n",
       "      <th>2</th>\n",
       "      <td>30</td>\n",
       "      <td>65</td>\n",
       "      <td>0</td>\n",
       "      <td>1</td>\n",
       "      <td>GE5</td>\n",
       "    </tr>\n",
       "    <tr>\n",
       "      <th>3</th>\n",
       "      <td>31</td>\n",
       "      <td>59</td>\n",
       "      <td>2</td>\n",
       "      <td>1</td>\n",
       "      <td>GE5</td>\n",
       "    </tr>\n",
       "    <tr>\n",
       "      <th>4</th>\n",
       "      <td>31</td>\n",
       "      <td>65</td>\n",
       "      <td>4</td>\n",
       "      <td>1</td>\n",
       "      <td>GE5</td>\n",
       "    </tr>\n",
       "  </tbody>\n",
       "</table>\n",
       "</div>"
      ],
      "text/plain": [
       "   Age  Year  NNodes  Class Survived\n",
       "0   30    64       1      1      GE5\n",
       "1   30    62       3      1      GE5\n",
       "2   30    65       0      1      GE5\n",
       "3   31    59       2      1      GE5\n",
       "4   31    65       4      1      GE5"
      ]
     },
     "execution_count": 3,
     "metadata": {},
     "output_type": "execute_result"
    }
   ],
   "source": [
    "import numpy as np\n",
    "import pandas as pd\n",
    "from collections import Counter\n",
    "\n",
    "surv = pd.read_csv('survival.csv')\n",
    "surv['Survived'] = 'GE5'\n",
    "surv.loc[surv['Class']==2,'Survived']='L5'\n",
    "surv.head()"
   ]
  },
  {
   "cell_type": "code",
   "execution_count": 4,
   "metadata": {},
   "outputs": [
    {
     "name": "stdout",
     "output_type": "stream",
     "text": [
      "Count of each class\n",
      "GE5    225\n",
      "L5      81\n",
      "Name: Survived, dtype: int64\n"
     ]
    },
    {
     "data": {
      "text/plain": [
       "((306, 3), (306,))"
      ]
     },
     "execution_count": 4,
     "metadata": {},
     "output_type": "execute_result"
    }
   ],
   "source": [
    "cnt=surv['Survived'].value_counts() \n",
    "print(\"Count of each class\")\n",
    "print(cnt)\n",
    "y = surv.pop('Survived').values\n",
    "surv.pop('Class')\n",
    "X = surv.values\n",
    "X.shape, y.shape\n",
    "\n"
   ]
  },
  {
   "cell_type": "code",
   "execution_count": 5,
   "metadata": {},
   "outputs": [
    {
     "name": "stdout",
     "output_type": "stream",
     "text": [
      "Minority class : 0.26\n"
     ]
    }
   ],
   "source": [
    "print(\"Minority class : %0.2f\" % (Counter(y)['L5']/len(y)))\n"
   ]
  },
  {
   "cell_type": "code",
   "execution_count": 6,
   "metadata": {},
   "outputs": [],
   "source": [
    "\n",
    "from sklearn.ensemble import GradientBoostingClassifier\n",
    "from sklearn.neighbors import KNeighborsClassifier\n",
    "from sklearn.tree import DecisionTreeClassifier\n",
    "from sklearn.linear_model import LogisticRegression\n",
    "\n",
    "from sklearn.metrics import confusion_matrix, accuracy_score\n",
    "from sklearn.model_selection import train_test_split"
   ]
  },
  {
   "cell_type": "code",
   "execution_count": 7,
   "metadata": {},
   "outputs": [],
   "source": [
    "model_d = {}\n",
    "\n",
    "model_d['dtree'] = DecisionTreeClassifier(criterion='entropy')\n",
    "model_d['kNN'] = KNeighborsClassifier(n_neighbors=3)  \n",
    "model_d['gb'] =GradientBoostingClassifier()\n",
    "model_d['logistic'] = LogisticRegression(max_iter=10000, solver = 'sag', random_state=0)\n",
    "\n",
    "\n",
    "X_train, X_test, y_train, y_test = train_test_split(X, y, random_state=0)\n",
    "bias_d = {}\n",
    "acc_bl = {}\n",
    "pred_neg={}\n",
    "test_neg={}\n",
    "y_pred={}\n"
   ]
  },
  {
   "cell_type": "code",
   "execution_count": 8,
   "metadata": {},
   "outputs": [
    {
     "name": "stdout",
     "output_type": "stream",
     "text": [
      "DecisionTreeClassifier\n",
      "Minority class in test set : 31.00\n",
      "Predicted minority class : 18.00\n",
      "Confusion Matrix\n",
      "[[38  8]\n",
      " [21 10]]\n",
      "DecisionTreeClassifier Prediction. Minority: 0.580645 Accuracy: 0.62 \n",
      "KNeighborsClassifier\n",
      "Minority class in test set : 31.00\n",
      "Predicted minority class : 13.00\n",
      "Confusion Matrix\n",
      "[[41  5]\n",
      " [23  8]]\n",
      "KNeighborsClassifier   Prediction. Minority: 0.419355 Accuracy: 0.64 \n",
      "GradientBoostingClassifier\n",
      "Minority class in test set : 31.00\n",
      "Predicted minority class : 12.00\n",
      "Confusion Matrix\n",
      "[[39  7]\n",
      " [26  5]]\n",
      "GradientBoostingClassifier Prediction. Minority: 0.387097 Accuracy: 0.57 \n",
      "LogisticRegression\n",
      "Minority class in test set : 31.00\n",
      "Predicted minority class : 3.00\n",
      "Confusion Matrix\n",
      "[[45  1]\n",
      " [29  2]]\n",
      "LogisticRegression     Prediction. Minority: 0.096774 Accuracy: 0.61 \n"
     ]
    }
   ],
   "source": [
    "for m in model_d:\n",
    "    y_pred[m] = model_d[m].fit(X_train, y_train).predict(X_test)\n",
    "    pred_neg[m] = Counter(y_pred[m])['L5']\n",
    "    test_neg[m] = Counter(y_test)['L5']\n",
    "    print(type(model_d[m]).__name__)\n",
    "    print(\"Minority class in test set : %0.2f\" % (test_neg[m]))\n",
    "    print(\"Predicted minority class : %0.2f\" % (pred_neg[m]))\n",
    "    pred_count=pred_neg[m]/test_neg[m]\n",
    "    bias_d[m]=pred_count\n",
    "    \n",
    "    acc = accuracy_score(y_test, y_pred[m])\n",
    "    acc_bl[m] = acc\n",
    "    confusion = confusion_matrix(y_test, y_pred[m])\n",
    "    print(\"Confusion Matrix\")\n",
    "    print(confusion)\n",
    "    print(\"{:22} Prediction. Minority: {:f} Accuracy: {:.2f} \".format(type(model_d[m]).__name__, pred_count,acc))\n"
   ]
  },
  {
   "cell_type": "markdown",
   "metadata": {},
   "source": [
    "We can see that very less minority class is actually getting predictied. This is happening because of the dataset is baised towards majority. We can notice that LogisticRegression has the least minority prediction score. See below, graph is used to compare these algorithms.   "
   ]
  },
  {
   "cell_type": "code",
   "execution_count": 9,
   "metadata": {},
   "outputs": [],
   "source": [
    "import matplotlib.pyplot as plt \n",
    "import numpy as np\n",
    "%matplotlib inline "
   ]
  },
  {
   "cell_type": "code",
   "execution_count": 10,
   "metadata": {},
   "outputs": [
    {
     "data": {
      "image/png": "[encoded data removed]",
      "text/plain": [
       "<Figure size 432x288 with 1 Axes>"
      ]
     },
     "metadata": {
      "needs_background": "light"
     },
     "output_type": "display_data"
    }
   ],
   "source": [
    "objects = list(bias_d.keys())\n",
    "positive =list(bias_d.values())\n",
    "\n",
    "y_pos = np.arange(len(objects))\n",
    "plt.bar(y_pos, positive, align='center', color=['purple', 'purple','purple','purple'],alpha=0.5)\n",
    "plt.xticks(y_pos, objects)\n",
    "plt.ylabel('Minority Count')\n",
    "plt.title('ML Algorithm Bias (Hold Out Testing)')\n",
    " \n",
    "plt.show()"
   ]
  },
  {
   "cell_type": "markdown",
   "metadata": {},
   "source": [
    "Above is result for Hold Out testing. For cross valisation we can see different more better results. We can see more predictions about minority class is done. As expected, Logistic regression algorithm is giving the least minority prediction socre."
   ]
  },
  {
   "cell_type": "code",
   "execution_count": 11,
   "metadata": {},
   "outputs": [],
   "source": [
    "from sklearn.model_selection import cross_validate\n",
    "from sklearn.metrics import make_scorer\n",
    "\n",
    "def tp(y_test, y_pred): return confusion_matrix(y_test, y_pred)[0,0]\n",
    "def tn(y_test, y_pred): return confusion_matrix(y_test, y_pred)[1, 1]\n",
    "def fp(y_test, y_pred): return confusion_matrix(y_test, y_pred)[1, 0]\n",
    "def fn(y_test, y_pred): return confusion_matrix(y_test, y_pred)[0, 1]\n",
    "scoring = {'tp' : make_scorer(tp), 'tn' : make_scorer(tn),\n",
    "           'fp' : make_scorer(fp), 'fn' : make_scorer(fn)}\n",
    "\n",
    "folds = 4\n",
    "v = 0"
   ]
  },
  {
   "cell_type": "code",
   "execution_count": 12,
   "metadata": {},
   "outputs": [
    {
     "name": "stdout",
     "output_type": "stream",
     "text": [
      "4  Cross Validation DecisionTreeClassifier Minority N: 225 Predicted N: 115 Acc: 0.60\n",
      "4  Cross Validation KNeighborsClassifier   Minority N: 225 Predicted N: 114 Acc: 0.60\n",
      "4  Cross Validation GradientBoostingClassifier Minority N: 225 Predicted N: 140 Acc: 0.53\n",
      "4  Cross Validation LogisticRegression     Minority N: 225 Predicted N: 25 Acc: 0.75\n"
     ]
    }
   ],
   "source": [
    "bias_cv = {}\n",
    "\n",
    "for m in model_d:\n",
    "    n_tot=0\n",
    "    cv_results = cross_validate(model_d[m], X, y, cv= folds,scoring=scoring)\n",
    "    n_tot = cv_results['test_tn'].sum() + cv_results['test_fn'].sum()\n",
    "    acc = (cv_results['test_tp'].sum() + cv_results['test_tn'].sum())/len(y)\n",
    "    bias_cv[m] = n_tot\n",
    "  \n",
    "    print(\"{}  Cross Validation {:22} Minority N: {:d} Predicted N: {:d} Acc: {:.2f}\".format(folds, type(model_d[m]).__name__, \n",
    "                                                                  cnt[0] , n_tot,acc)) "
   ]
  },
  {
   "cell_type": "code",
   "execution_count": 13,
   "metadata": {},
   "outputs": [
    {
     "data": {
      "image/png": "[encoded data removed]",
      "text/plain": [
       "<Figure size 432x288 with 1 Axes>"
      ]
     },
     "metadata": {
      "needs_background": "light"
     },
     "output_type": "display_data"
    },
    {
     "name": "stdout",
     "output_type": "stream",
     "text": [
      "[55 56 51 53]\n"
     ]
    }
   ],
   "source": [
    "import matplotlib.pyplot as plt \n",
    "import numpy as np\n",
    "import matplotlib.pyplot as plt\n",
    "#%matplotlib inline \n",
    "\n",
    "objects = list(bias_cv.keys())\n",
    "positive = list(bias_cv.values())\n",
    "\n",
    "y_pos = np.arange(len(objects))\n",
    "\n",
    "plt.bar(y_pos, positive, align='center', color=['red', 'red','red','red','red'],alpha=0.5)\n",
    "plt.xticks(y_pos, objects)\n",
    "plt.ylabel('Minority Count')\n",
    "plt.title('ML Algorithm Bias (Cross-val)')\n",
    " \n",
    "plt.show()\n",
    "\n",
    "\n",
    "print(cv_results['test_tp'])"
   ]
  },
  {
   "cell_type": "markdown",
   "metadata": {},
   "source": [
    "To reduce the bias, we can use many techniques. I have implemented ADASYN technique. This adds synthetic samples of minority class such that majority class and minority class have similar number of data. Which then reduces the bias."
   ]
  },
  {
   "cell_type": "markdown",
   "metadata": {},
   "source": [
    "Q2. Reducing Bias"
   ]
  },
  {
   "cell_type": "code",
   "execution_count": 14,
   "metadata": {},
   "outputs": [
    {
     "name": "stdout",
     "output_type": "stream",
     "text": [
      "Resampled dataset after ADASYN shape Counter({'L5': 180, 'GE5': 179})\n"
     ]
    }
   ],
   "source": [
    "from imblearn.over_sampling import ADASYN\n",
    "ada = ADASYN(random_state=42)\n",
    "X_ada, y_ada = ada.fit_resample(X_train, y_train)\n",
    "print('Resampled dataset after ADASYN shape %s' % Counter(y_ada))"
   ]
  },
  {
   "cell_type": "code",
   "execution_count": 15,
   "metadata": {},
   "outputs": [
    {
     "name": "stdout",
     "output_type": "stream",
     "text": [
      "DecisionTreeClassifier\n",
      "Minority class in test set : 31.00\n",
      "Predicted minority class : 28.00\n",
      "Confusion Matrix\n",
      "[[31 15]\n",
      " [18 13]]\n",
      "DecisionTreeClassifier Pred. Minority: 0.903226 Accuracy: 0.57 \n",
      "KNeighborsClassifier\n",
      "Minority class in test set : 31.00\n",
      "Predicted minority class : 26.00\n",
      "Confusion Matrix\n",
      "[[35 11]\n",
      " [16 15]]\n",
      "KNeighborsClassifier   Pred. Minority: 0.838710 Accuracy: 0.65 \n",
      "GradientBoostingClassifier\n",
      "Minority class in test set : 31.00\n",
      "Predicted minority class : 28.00\n",
      "Confusion Matrix\n",
      "[[33 13]\n",
      " [16 15]]\n",
      "GradientBoostingClassifier Pred. Minority: 0.903226 Accuracy: 0.62 \n",
      "LogisticRegression\n",
      "Minority class in test set : 31.00\n",
      "Predicted minority class : 24.00\n",
      "Confusion Matrix\n",
      "[[36 10]\n",
      " [17 14]]\n",
      "LogisticRegression     Pred. Minority: 0.774194 Accuracy: 0.65 \n"
     ]
    }
   ],
   "source": [
    "bias_d1 = {}\n",
    "acc_bl1 = {}\n",
    "pred_neg1={}\n",
    "test_neg1={}\n",
    "y_pred1={}\n",
    "for m in model_d:\n",
    "    y_pred1[m] = model_d[m].fit(X_ada, y_ada).predict(X_test)\n",
    "    pred_neg1[m] = Counter(y_pred1[m])['L5']\n",
    "    test_neg1[m] = Counter(y_test)['L5']\n",
    "    print(type(model_d[m]).__name__)\n",
    "    print(\"Minority class in test set : %0.2f\" % (test_neg1[m]))\n",
    "    print(\"Predicted minority class : %0.2f\" % (pred_neg1[m]))\n",
    "    pred_count=pred_neg1[m]/test_neg1[m]\n",
    "    bias_d1[m]=pred_count\n",
    "    \n",
    "    acc1 = accuracy_score(y_test, y_pred1[m])\n",
    "    acc_bl1[m] = acc1\n",
    "    confusion = confusion_matrix(y_test, y_pred1[m])\n",
    "    print(\"Confusion Matrix\")\n",
    "    print(confusion)\n",
    "    print(\"{:22} Pred. Minority: {:f} Accuracy: {:.2f} \".format(type(model_d[m]).__name__, pred_count,acc1))"
   ]
  },
  {
   "cell_type": "markdown",
   "metadata": {},
   "source": [
    "We can see that after Oversampling, we observe better results. Bias has been reduced across algorithms. Not much impact is observed on accuracy."
   ]
  },
  {
   "cell_type": "code",
   "execution_count": 16,
   "metadata": {},
   "outputs": [
    {
     "data": {
      "image/png": "[encoded data removed]",
      "text/plain": [
       "<Figure size 432x288 with 1 Axes>"
      ]
     },
     "metadata": {
      "needs_background": "light"
     },
     "output_type": "display_data"
    }
   ],
   "source": [
    "fig, ax = plt.subplots()\n",
    "width = 0.35\n",
    "\n",
    "# Add the prior figures to the data for plotting\n",
    "objects =  list(bias_d.keys())\n",
    "positive =  list(bias_d.values())\n",
    "res = list(bias_d1.values())\n",
    "\n",
    "y_pos = np.arange(len(objects))\n",
    "\n",
    "p1 = ax.bar(y_pos, positive, width, align='center', \n",
    "            color=[ 'pink', 'pink','pink','pink'],alpha=0.5)\n",
    "\n",
    "p2 = ax.bar(y_pos+width, res, width, align='center', \n",
    "            color=[ 'maroon','maroon','maroon','maroon'],alpha=0.5)\n",
    "\n",
    "ax.legend((p1[1], p2[1]), ('Raw', 'Upsampled'))\n",
    "\n",
    "plt.xticks(y_pos, objects)\n",
    "plt.ylabel('Minority Counts')\n",
    "plt.title('Impact of Upsampling ADASYN')\n",
    " \n",
    "plt.show()\n",
    "\n"
   ]
  },
  {
   "cell_type": "markdown",
   "metadata": {},
   "source": [
    "Plotting the difference between minority class before and after removing bias. We can notice a significant difference especially for Logistic Regression."
   ]
  },
  {
   "cell_type": "markdown",
   "metadata": {},
   "source": [
    "Q3. Used diabetes dataset"
   ]
  },
  {
   "cell_type": "code",
   "execution_count": 17,
   "metadata": {},
   "outputs": [
    {
     "name": "stdout",
     "output_type": "stream",
     "text": [
      "Count of each class\n",
      "tested_negative    397\n",
      "tested_positive    198\n",
      "Name: neg_pos, dtype: int64\n",
      "Minority class : 0.33\n"
     ]
    }
   ],
   "source": [
    "import numpy as np\n",
    "import pandas as pd\n",
    "from collections import Counter\n",
    "from numpy import unique\n",
    "\n",
    "from pandas import read_csv\n",
    "\n",
    "data = pd.read_csv('diabetes.csv')\n",
    "\n",
    "data.head()\n",
    "\n",
    "cnt=data['neg_pos'].value_counts() \n",
    "print(\"Count of each class\")\n",
    "print(cnt)\n",
    "y = data.pop('neg_pos').values\n",
    "X = data.values\n",
    "X.shape, y.shape\n",
    "\n",
    "print(\"Minority class : %0.2f\" % (Counter(y)['tested_positive']/len(y)))\n"
   ]
  },
  {
   "cell_type": "code",
   "execution_count": 18,
   "metadata": {},
   "outputs": [
    {
     "name": "stdout",
     "output_type": "stream",
     "text": [
      "DecisionTreeClassifier\n",
      "Minority class in test set : 47.00\n",
      "Predicted minority class : 46.00\n",
      "Confusion Matrix\n",
      "[[84 18]\n",
      " [19 28]]\n",
      "DecisionTreeClassifier Prediction. Minority: 0.978723 Accuracy: 0.75 \n",
      "KNeighborsClassifier\n",
      "Minority class in test set : 47.00\n",
      "Predicted minority class : 43.00\n",
      "Confusion Matrix\n",
      "[[84 18]\n",
      " [22 25]]\n",
      "KNeighborsClassifier   Prediction. Minority: 0.914894 Accuracy: 0.73 \n",
      "GradientBoostingClassifier\n",
      "Minority class in test set : 47.00\n",
      "Predicted minority class : 44.00\n",
      "Confusion Matrix\n",
      "[[88 14]\n",
      " [17 30]]\n",
      "GradientBoostingClassifier Prediction. Minority: 0.936170 Accuracy: 0.79 \n",
      "LogisticRegression\n",
      "Minority class in test set : 47.00\n",
      "Predicted minority class : 29.00\n",
      "Confusion Matrix\n",
      "[[88 14]\n",
      " [32 15]]\n",
      "LogisticRegression     Prediction. Minority: 0.617021 Accuracy: 0.69 \n"
     ]
    }
   ],
   "source": [
    "from sklearn.ensemble import GradientBoostingClassifier\n",
    "from sklearn.neighbors import KNeighborsClassifier\n",
    "from sklearn.tree import DecisionTreeClassifier\n",
    "from sklearn.linear_model import LogisticRegression\n",
    "\n",
    "from sklearn.metrics import confusion_matrix, accuracy_score\n",
    "from sklearn.model_selection import train_test_split\n",
    "\n",
    "model_d = {}\n",
    "\n",
    "model_d['dtree'] = DecisionTreeClassifier(criterion='entropy')\n",
    "model_d['kNN'] = KNeighborsClassifier(n_neighbors=3)  \n",
    "model_d['gb'] =GradientBoostingClassifier()\n",
    "model_d['logistic'] = LogisticRegression(max_iter=10000, solver = 'sag', random_state=0)\n",
    "\n",
    "\n",
    "X_train, X_test, y_train, y_test = train_test_split(X, y, random_state=0)\n",
    "bias_d = {}\n",
    "acc_bl = {}\n",
    "pred_neg={}\n",
    "test_neg={}\n",
    "y_pred={}\n",
    "for m in model_d:\n",
    "    y_pred[m] = model_d[m].fit(X_train, y_train).predict(X_test)\n",
    "    pred_neg[m] = Counter(y_pred[m])['tested_positive']\n",
    "    test_neg[m] = Counter(y_test)['tested_positive']\n",
    "    print(type(model_d[m]).__name__)\n",
    "    print(\"Minority class in test set : %0.2f\" % (test_neg[m]))\n",
    "    print(\"Predicted minority class : %0.2f\" % (pred_neg[m]))\n",
    "    pred_count=pred_neg[m]/test_neg[m]\n",
    "    bias_d[m]=pred_count\n",
    "    \n",
    "    acc = accuracy_score(y_test, y_pred[m])\n",
    "    acc_bl[m] = acc\n",
    "    confusion = confusion_matrix(y_test, y_pred[m])\n",
    "    print(\"Confusion Matrix\")\n",
    "    print(confusion)\n",
    "    print(\"{:22} Prediction. Minority: {:f} Accuracy: {:.2f} \".format(type(model_d[m]).__name__, pred_count,acc))\n"
   ]
  },
  {
   "cell_type": "code",
   "execution_count": 19,
   "metadata": {},
   "outputs": [
    {
     "data": {
      "image/png": "[encoded data removed]",
      "text/plain": [
       "<Figure size 432x288 with 1 Axes>"
      ]
     },
     "metadata": {
      "needs_background": "light"
     },
     "output_type": "display_data"
    }
   ],
   "source": [
    "import matplotlib.pyplot as plt \n",
    "import numpy as np\n",
    "%matplotlib inline \n",
    "\n",
    "# Add the prior figures to the data for plotting\n",
    "objects = list(bias_d.keys())\n",
    "positive =list(bias_d.values())\n",
    "\n",
    "y_pos = np.arange(len(objects))\n",
    "plt.bar(y_pos, positive, align='center', color=['purple', 'purple','purple','purple'],alpha=0.5)\n",
    "plt.xticks(y_pos, objects)\n",
    "plt.ylabel('Minority Count')\n",
    "plt.title('ML Algorithm Bias (Hold Out Testing)')\n",
    " \n",
    "plt.show()\n",
    "\n"
   ]
  },
  {
   "cell_type": "code",
   "execution_count": 20,
   "metadata": {},
   "outputs": [
    {
     "name": "stdout",
     "output_type": "stream",
     "text": [
      "Resampled dataset after ADASYN shape Counter({'tested_negative': 295, 'tested_positive': 280})\n",
      "Minority class in test set : 47.00\n",
      "Predicted minority class : 65.00\n",
      "Confusion Matrix\n",
      "[[69 33]\n",
      " [15 32]]\n",
      "DecisionTreeClassifier Pred. Minority: 1.382979 Accuracy: 0.68 \n",
      "Minority class in test set : 47.00\n",
      "Predicted minority class : 69.00\n",
      "Confusion Matrix\n",
      "[[65 37]\n",
      " [15 32]]\n",
      "KNeighborsClassifier   Pred. Minority: 1.468085 Accuracy: 0.65 \n",
      "Minority class in test set : 47.00\n",
      "Predicted minority class : 59.00\n",
      "Confusion Matrix\n",
      "[[79 23]\n",
      " [11 36]]\n",
      "GradientBoostingClassifier Pred. Minority: 1.255319 Accuracy: 0.77 \n",
      "Minority class in test set : 47.00\n",
      "Predicted minority class : 73.00\n",
      "Confusion Matrix\n",
      "[[65 37]\n",
      " [11 36]]\n",
      "LogisticRegression     Pred. Minority: 1.553191 Accuracy: 0.68 \n"
     ]
    }
   ],
   "source": [
    "from imblearn.over_sampling import ADASYN\n",
    "ada = ADASYN(random_state=42)\n",
    "X_ada, y_ada = ada.fit_resample(X_train, y_train)\n",
    "print('Resampled dataset after ADASYN shape %s' % Counter(y_ada))\n",
    "\n",
    "\n",
    "bias_d1 = {}\n",
    "acc_bl1 = {}\n",
    "pred_neg1={}\n",
    "test_neg1={}\n",
    "y_pred1={}\n",
    "for m in model_d:\n",
    "    y_pred1[m] = model_d[m].fit(X_ada, y_ada).predict(X_test)\n",
    "    pred_neg1[m] = Counter(y_pred1[m])['tested_positive']\n",
    "    test_neg1[m] = Counter(y_test)['tested_positive']\n",
    "\n",
    "    print(\"Minority class in test set : %0.2f\" % (test_neg1[m]))\n",
    "    print(\"Predicted minority class : %0.2f\" % (pred_neg1[m]))\n",
    "    pred_count=pred_neg1[m]/test_neg1[m]\n",
    "    bias_d1[m]=pred_count\n",
    "    \n",
    "    acc1 = accuracy_score(y_test, y_pred1[m])\n",
    "    acc_bl1[m] = acc1\n",
    "    confusion = confusion_matrix(y_test, y_pred1[m])\n",
    "    print(\"Confusion Matrix\")\n",
    "    print(confusion)\n",
    "    print(\"{:22} Pred. Minority: {:f} Accuracy: {:.2f} \".format(type(model_d[m]).__name__, pred_count,acc1))"
   ]
  },
  {
   "cell_type": "code",
   "execution_count": 21,
   "metadata": {},
   "outputs": [
    {
     "data": {
      "image/png": "[encoded data removed]",
      "text/plain": [
       "<Figure size 432x288 with 1 Axes>"
      ]
     },
     "metadata": {
      "needs_background": "light"
     },
     "output_type": "display_data"
    }
   ],
   "source": [
    "import matplotlib.pyplot as plt \n",
    "import numpy as np\n",
    "#%matplotlib inline \n",
    "\n",
    "fig, ax = plt.subplots()\n",
    "width = 0.35\n",
    "\n",
    "# Add the prior figures to the data for plotting\n",
    "objects =  list(bias_d.keys())\n",
    "positive =  list(bias_d.values())\n",
    "res = list(bias_d1.values())\n",
    "\n",
    "y_pos = np.arange(len(objects))\n",
    "\n",
    "p1 = ax.bar(y_pos, positive, width, align='center', \n",
    "            color=[ 'pink', 'pink','pink','pink'],alpha=0.5)\n",
    "\n",
    "p2 = ax.bar(y_pos+width, res, width, align='center', \n",
    "            color=[ 'maroon','maroon','maroon','maroon'],alpha=0.5)\n",
    "\n",
    "ax.legend((p1[1], p2[1]), ('Raw', 'Upsampled'))\n",
    "\n",
    "plt.xticks(y_pos, objects)\n",
    "plt.ylabel('Minority Counts')\n",
    "plt.title('Impact of Upsampling ADASYN')\n",
    " \n",
    "plt.show()\n"
   ]
  },
  {
   "cell_type": "markdown",
   "metadata": {},
   "source": [
    "We can obsevre that after performing ADASYN, the results are actually getting biased towards the minority class. This is one of the drawbacks of oversampling. Because the data set was not very biased, after oversampling it got reverse-biased towards the minority class. This did not happen in case of Q1 and Q2 because the data set in those questions had very vast difference between 2 class count. i.e there were very few data entries for minority class. "
   ]
  },
  {
   "cell_type": "code",
   "execution_count": null,
   "metadata": {},
   "outputs": [],
   "source": []
  },
  {
   "cell_type": "code",
   "execution_count": null,
   "metadata": {},
   "outputs": [],
   "source": []
  }
 ],
 "metadata": {
  "kernelspec": {
   "display_name": "Python 3",
   "language": "python",
   "name": "python3"
  },
  "language_info": {
   "codemirror_mode": {
    "name": "ipython",
    "version": 3
   },
   "file_extension": ".py",
   "mimetype": "text/x-python",
   "name": "python",
   "nbconvert_exporter": "python",
   "pygments_lexer": "ipython3",
   "version": "3.8.3"
  }
 },
 "nbformat": 4,
 "nbformat_minor": 4
}
